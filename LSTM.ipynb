{
 "cells": [
  {
   "cell_type": "markdown",
   "id": "8be0bcfe-cf2e-4db0-8961-8e0a5973c544",
   "metadata": {},
   "source": [
    "# 事前準備"
   ]
  },
  {
   "cell_type": "code",
   "execution_count": 1,
   "id": "bc924ed1-228a-42d2-a3c4-5b194130ffb3",
   "metadata": {},
   "outputs": [
    {
     "name": "stdout",
     "output_type": "stream",
     "text": [
      "Downloading data from https://storage.googleapis.com/tensorflow/tf-keras-datasets/reuters.npz\n",
      "2113536/2110848 [==============================] - ETA:  - ETA:  - ETA:  - ETA:  - ETA:  - 0s 0us/step\n",
      "2121728/2110848 [==============================] - 0s 0us/step\n"
     ]
    }
   ],
   "source": [
    "from keras.datasets import reuters\n",
    "\n",
    "(x_train, y_train), (x_test, y_test) = reuters.load_data(path=\"reuters.npz\",\n",
    "                                                         num_words=None,\n",
    "                                                         skip_top=0,\n",
    "                                                         maxlen=None,\n",
    "                                                         test_split=0.2,\n",
    "                                                         seed=113,\n",
    "                                                         start_char=1,\n",
    "                                                         oov_char=2,\n",
    "                                                         index_from=3)"
   ]
  },
  {
   "cell_type": "code",
   "execution_count": 7,
   "id": "6d41daf9-f77d-4b73-b0e6-6a46c6d5aa45",
   "metadata": {},
   "outputs": [
    {
     "name": "stdout",
     "output_type": "stream",
     "text": [
      "Downloading data from https://storage.googleapis.com/tensorflow/tf-keras-datasets/reuters_word_index.json\n",
      "557056/550378 [==============================] - ETA:  - ETA:  - 0s 0us/step\n",
      "565248/550378 [==============================] - 0s 0us/step\n"
     ]
    }
   ],
   "source": [
    "word_index = reuters.get_word_index(path=\"reuters_word_index.npz\")"
   ]
  },
  {
   "cell_type": "markdown",
   "id": "ca604b07-80b5-4e84-883c-3ca4a33b457c",
   "metadata": {},
   "source": [
    "## データについて\n",
    "xのデータには文字に対応するindexが入っている。indexとの対応はword_indexに文字を打ち込むとindexが得られる辞書がある。  \n",
    "元の文章を得るにはindexから文字を取得できる様にする必要がある。  \n",
    "また、yにはトピックのラベルが入っている。この番号を予想するのが目的となる。"
   ]
  },
  {
   "cell_type": "code",
   "execution_count": 14,
   "id": "5dc290f6-cbba-4ab6-8bcc-cbca4a1d1231",
   "metadata": {},
   "outputs": [
    {
     "data": {
      "text/plain": [
       "343"
      ]
     },
     "execution_count": 14,
     "metadata": {},
     "output_type": "execute_result"
    }
   ],
   "source": [
    "# バッチ35の10個目の単語を求める\n",
    "x_train[35][10]"
   ]
  },
  {
   "cell_type": "code",
   "execution_count": 32,
   "id": "21310ef0-2099-4c91-8e24-6f9a4032c23a",
   "metadata": {},
   "outputs": [],
   "source": [
    "# word_index.items()でkey(文字)とvalues(数字、上で得られたもの)の並びを取得できる\n",
    "# 新しくindexを数字として、文字を引ける様に設定する\n",
    "# index_from=3で書いたので、3から始まるようにする\n",
    "index_word_map = {index + 3: word for word, index in word_index.items()}"
   ]
  },
  {
   "cell_type": "code",
   "execution_count": 38,
   "id": "f41f654b-e5e7-4e29-bec2-741a45fede69",
   "metadata": {},
   "outputs": [],
   "source": [
    "# また、　index0, 1, 2に該当する意味をしていする。\n",
    "index_word_map[0] = \"[padding]\"\n",
    "index_word_map[1] = \"[start]\"\n",
    "\n",
    "# OOVはout of vocabularyの略\n",
    "index_word_map[2] = \"[oov]\""
   ]
  },
  {
   "cell_type": "code",
   "execution_count": 36,
   "id": "65fda1f9-c5ab-41c0-83e6-c3307afcb376",
   "metadata": {},
   "outputs": [
    {
     "data": {
      "text/plain": [
       "'make'"
      ]
     },
     "execution_count": 36,
     "metadata": {},
     "output_type": "execute_result"
    }
   ],
   "source": [
    "index_word_map[343]"
   ]
  },
  {
   "cell_type": "code",
   "execution_count": 37,
   "id": "29b614cd-675f-4f94-af9f-5281ccd30dc4",
   "metadata": {},
   "outputs": [
    {
     "name": "stdout",
     "output_type": "stream",
     "text": [
      "[start] mcgrath rentcorp said as a result of its december acquisition of space co it expects earnings per share in 1987 of 1 15 to 1 30 dlrs per share up from 70 cts in 1986 the company said pretax net should rise to nine to 10 mln dlrs from six mln dlrs in 1986 and rental operation revenues to 19 to 22 mln dlrs from 12 5 mln dlrs it said cash flow per share this year should be 2 50 to three dlrs reuter 3 "
     ]
    }
   ],
   "source": [
    "for index in x_train[0]:\n",
    "    print(index_word_map[index], end = \" \")"
   ]
  },
  {
   "cell_type": "markdown",
   "id": "7f50c520-ba0c-4f72-a1f7-dd7df35eebf1",
   "metadata": {},
   "source": [
    "mcgrath rentcorpは、12月にspace coを買収した結果、1987年の1株当たり利益は1986年の70ctsから115から130 dlrsに増加すると見込んでおり、税引前純額は6から9から1000万dlrsに上昇すると述べた。 1986年のmlndlrsと、12 5 mlndlrsから19から22mln dlrsへのレンタル運用収益は、今年の1株あたりのキャッシュフローは250から3dlrs reuter3であると述べています。  \n",
    "おそらくできてる。"
   ]
  },
  {
   "cell_type": "markdown",
   "id": "1788adc2-70b5-4e79-bf5f-66ad9575597b",
   "metadata": {},
   "source": [
    "## 分析可能な形に前処理"
   ]
  },
  {
   "cell_type": "code",
   "execution_count": 48,
   "id": "6a92c7ce-2edd-43ad-a42d-acc4bbea859e",
   "metadata": {},
   "outputs": [],
   "source": [
    "# 頻出1000の文字に限定する\n",
    "(x_train, y_train), (x_test, y_test) = reuters.load_data(path=\"reuters.npz\",\n",
    "                                                         num_words=1000,\n",
    "                                                         skip_top=0,\n",
    "                                                         maxlen=None,\n",
    "                                                         test_split=0.2,\n",
    "                                                         seed=113,\n",
    "                                                         start_char=1,\n",
    "                                                         oov_char=2,\n",
    "                                                         index_from=3)"
   ]
  },
  {
   "cell_type": "code",
   "execution_count": 49,
   "id": "6e54a7a7-bbc3-49f9-9df1-eb27265c6941",
   "metadata": {},
   "outputs": [
    {
     "name": "stdout",
     "output_type": "stream",
     "text": [
      "[start] [oov] [oov] said as a result of its december acquisition of [oov] co it expects earnings per share in 1987 of 1 15 to 1 30 dlrs per share up from 70 cts in 1986 the company said pretax net should rise to nine to 10 mln dlrs from six mln dlrs in 1986 and [oov] [oov] revenues to 19 to 22 mln dlrs from 12 5 mln dlrs it said cash [oov] per share this year should be 2 50 to three dlrs reuter 3 "
     ]
    }
   ],
   "source": [
    "# oovのものは1000位以下の文字になる。\n",
    "for index in x_train[0]:\n",
    "    print(index_word_map[index], end = \" \")"
   ]
  },
  {
   "cell_type": "code",
   "execution_count": 52,
   "id": "1f20fc6e-95f2-4fee-85db-27cffb3895d2",
   "metadata": {},
   "outputs": [],
   "source": [
    "from tensorflow.keras.preprocessing.text import Tokenizer\n",
    "\n",
    "# 上位1000個をベクトルにする\n",
    "tokenizer = Tokenizer(num_words=1000)\n",
    "\n",
    "tokenizer.fit_on_sequences(x_train)\n",
    "\n",
    "# tfidfにしてみる\n",
    "x_train_tfidf = tokenizer.sequences_to_matrix(x_train, \"tfidf\")\n",
    "x_test_tfidf = tokenizer.sequences_to_matrix(x_test, \"tfidf\")"
   ]
  },
  {
   "cell_type": "code",
   "execution_count": 54,
   "id": "e4e2f193-588b-4547-9a9b-c5ed21abbfaa",
   "metadata": {},
   "outputs": [
    {
     "data": {
      "text/plain": [
       "(8982, 1000)"
      ]
     },
     "execution_count": 54,
     "metadata": {},
     "output_type": "execute_result"
    }
   ],
   "source": [
    "x_train_tfidf.shape"
   ]
  },
  {
   "cell_type": "code",
   "execution_count": 56,
   "id": "b5c5a925-aa4d-4123-b40e-ecbcb5e11bc6",
   "metadata": {},
   "outputs": [
    {
     "data": {
      "text/plain": [
       "array([0.        , 0.69309152, 2.84159064, 0.        , 2.65863303])"
      ]
     },
     "execution_count": 56,
     "metadata": {},
     "output_type": "execute_result"
    }
   ],
   "source": [
    "x_test_tfidf[0][:5]"
   ]
  },
  {
   "cell_type": "markdown",
   "id": "7fa7f22c-b79a-4c7d-a4f7-b9efbe2fe8d7",
   "metadata": {},
   "source": [
    "## 目的変数をOnehot"
   ]
  },
  {
   "cell_type": "code",
   "execution_count": 43,
   "id": "75f76e9b-d8ee-4297-aba2-e7a5c7666900",
   "metadata": {},
   "outputs": [
    {
     "data": {
      "text/plain": [
       "3"
      ]
     },
     "execution_count": 43,
     "metadata": {},
     "output_type": "execute_result"
    }
   ],
   "source": [
    "y_train[0]"
   ]
  },
  {
   "cell_type": "code",
   "execution_count": 45,
   "id": "b481a2f4-d53f-4d88-ab40-25d0f75c7590",
   "metadata": {},
   "outputs": [],
   "source": [
    "from sklearn.preprocessing import OneHotEncoder\n",
    "import numpy as np\n",
    "\n",
    "enc = OneHotEncoder(handle_unknown='ignore', sparse=False)\n",
    "y_train_one_hot = enc.fit_transform(y_train[:, np.newaxis])\n",
    "y_test_one_hot = enc.transform(y_test[:, np.newaxis])"
   ]
  },
  {
   "cell_type": "code",
   "execution_count": 47,
   "id": "00708b45-6691-4a58-b3ba-3f70487b8f71",
   "metadata": {},
   "outputs": [
    {
     "data": {
      "text/plain": [
       "(2246, 46)"
      ]
     },
     "execution_count": 47,
     "metadata": {},
     "output_type": "execute_result"
    }
   ],
   "source": [
    "y_test_one_hot.shape"
   ]
  },
  {
   "cell_type": "markdown",
   "id": "3267ab88-9862-423d-b2a8-af2c635af673",
   "metadata": {},
   "source": [
    "# 【問題1】各種手法の実行\n",
    "Kerasには4種類のReccurentレイヤーが用意されています。SimpleRNN以外はゲート付きリカレントニューラルネットワークです。\n",
    "\n",
    "\n",
    "SimpleRNN\n",
    "GRU\n",
    "LSTM\n",
    "ConvLSTM2D\n",
    "\n",
    "これらを実行してください。この中でSimpleRNN、GRU、LSTMは同様のタスクに用いることができるため、精度の比較も行なってください。\n",
    "\n",
    "\n",
    "Keras公式のサンプルコードを利用してください。"
   ]
  },
  {
   "cell_type": "markdown",
   "id": "7949bd06-4975-41cc-a1ae-824830113f4a",
   "metadata": {},
   "source": [
    "# 【問題2】（アドバンス課題）複数のデータセット間での比較\n",
    "他のデータセットでも実験を行なってください。\n",
    "\n",
    "\n",
    "データセット - Keras Documentation\n",
    "\n",
    "\n",
    "Kerasで簡単に利用できる自然言語データセットとしてロイターのニュースワイヤー トピックス分類があります。"
   ]
  },
  {
   "cell_type": "markdown",
   "id": "daf06dd0-088e-42ab-a613-27c1a66bfcdc",
   "metadata": {},
   "source": [
    "## 試しにRNNを使わない場合"
   ]
  },
  {
   "cell_type": "code",
   "execution_count": 75,
   "id": "0b53f70e-70a9-425a-97a8-e781646f1c44",
   "metadata": {},
   "outputs": [],
   "source": [
    "import tensorflow as tf\n",
    "import keras as keras\n",
    "\n",
    "model = tf.keras.models.Sequential([\n",
    "layers.Dense(512, input_shape=(1000,), activation='relu'),\n",
    "layers.Dense(y_train_one_hot.shape[1], activation='softmax')\n",
    "])"
   ]
  },
  {
   "cell_type": "code",
   "execution_count": 76,
   "id": "3210bf48-9189-4b75-9b43-a09ad6c01e8c",
   "metadata": {},
   "outputs": [
    {
     "name": "stdout",
     "output_type": "stream",
     "text": [
      "Model: \"sequential_3\"\n",
      "_________________________________________________________________\n",
      "Layer (type)                 Output Shape              Param #   \n",
      "=================================================================\n",
      "dense_7 (Dense)              (None, 512)               512512    \n",
      "_________________________________________________________________\n",
      "dense_8 (Dense)              (None, 46)                23598     \n",
      "=================================================================\n",
      "Total params: 536,110\n",
      "Trainable params: 536,110\n",
      "Non-trainable params: 0\n",
      "_________________________________________________________________\n"
     ]
    }
   ],
   "source": [
    "model.summary()"
   ]
  },
  {
   "cell_type": "code",
   "execution_count": 77,
   "id": "fedad8c3-b729-4598-b368-d264a26791e9",
   "metadata": {},
   "outputs": [],
   "source": [
    "model.compile(\n",
    "    optimizer='adam',\n",
    "    loss = 'categorical_crossentropy',\n",
    "    metrics='accuracy'\n",
    ")"
   ]
  },
  {
   "cell_type": "code",
   "execution_count": 78,
   "id": "6dbfb49c-5e3d-461a-ae32-e9e0e632bbea",
   "metadata": {
    "collapsed": true,
    "jupyter": {
     "outputs_hidden": true
    },
    "tags": []
   },
   "outputs": [
    {
     "name": "stdout",
     "output_type": "stream",
     "text": [
      "Epoch 1/100\n",
      "225/225 [==============================] - ETA: 54s - loss: 4.5475 - accuracy: 0.0000e+0 - ETA: 0s - loss: 2.1991 - accuracy: 0.5521    - ETA: 0s - loss: 1.7755 - accuracy: 0.63 - ETA: 0s - loss: 1.5552 - accuracy: 0.67 - ETA: 0s - loss: 1.4562 - accuracy: 0.70 - ETA: 0s - loss: 1.3471 - accuracy: 0.72 - ETA: 0s - loss: 1.2687 - accuracy: 0.73 - ETA: 0s - loss: 1.2366 - accuracy: 0.74 - ETA: 0s - loss: 1.2011 - accuracy: 0.74 - 1s 3ms/step - loss: 1.1936 - accuracy: 0.7491 - val_loss: 0.8883 - val_accuracy: 0.8052\n",
      "Epoch 2/100\n",
      "225/225 [==============================] - ETA: 0s - loss: 0.4616 - accuracy: 0.87 - ETA: 0s - loss: 0.4047 - accuracy: 0.90 - ETA: 0s - loss: 0.3799 - accuracy: 0.90 - ETA: 0s - loss: 0.3794 - accuracy: 0.90 - ETA: 0s - loss: 0.3921 - accuracy: 0.90 - ETA: 0s - loss: 0.3923 - accuracy: 0.90 - ETA: 0s - loss: 0.4045 - accuracy: 0.90 - ETA: 0s - loss: 0.4076 - accuracy: 0.90 - ETA: 0s - loss: 0.4167 - accuracy: 0.90 - 1s 2ms/step - loss: 0.4209 - accuracy: 0.9042 - val_loss: 0.8644 - val_accuracy: 0.8097\n",
      "Epoch 3/100\n",
      "225/225 [==============================] - ETA: 0s - loss: 0.2991 - accuracy: 0.93 - ETA: 0s - loss: 0.2285 - accuracy: 0.94 - ETA: 0s - loss: 0.2360 - accuracy: 0.94 - ETA: 0s - loss: 0.2515 - accuracy: 0.94 - ETA: 0s - loss: 0.2659 - accuracy: 0.93 - ETA: 0s - loss: 0.2625 - accuracy: 0.94 - ETA: 0s - loss: 0.2629 - accuracy: 0.94 - ETA: 0s - loss: 0.2697 - accuracy: 0.94 - ETA: 0s - loss: 0.2685 - accuracy: 0.94 - 0s 2ms/step - loss: 0.2730 - accuracy: 0.9389 - val_loss: 0.9121 - val_accuracy: 0.8152\n",
      "Epoch 4/100\n",
      "225/225 [==============================] - ETA: 0s - loss: 0.2873 - accuracy: 0.90 - ETA: 0s - loss: 0.1611 - accuracy: 0.96 - ETA: 0s - loss: 0.1613 - accuracy: 0.96 - ETA: 0s - loss: 0.1664 - accuracy: 0.96 - ETA: 0s - loss: 0.1795 - accuracy: 0.95 - ETA: 0s - loss: 0.1887 - accuracy: 0.95 - ETA: 0s - loss: 0.1916 - accuracy: 0.95 - ETA: 0s - loss: 0.1944 - accuracy: 0.95 - ETA: 0s - loss: 0.2100 - accuracy: 0.95 - 0s 2ms/step - loss: 0.2116 - accuracy: 0.9530 - val_loss: 0.9429 - val_accuracy: 0.8108\n",
      "Epoch 5/100\n",
      "225/225 [==============================] - ETA: 0s - loss: 0.2338 - accuracy: 0.96 - ETA: 0s - loss: 0.1535 - accuracy: 0.96 - ETA: 0s - loss: 0.1416 - accuracy: 0.96 - ETA: 0s - loss: 0.1652 - accuracy: 0.96 - ETA: 0s - loss: 0.1698 - accuracy: 0.96 - ETA: 0s - loss: 0.1793 - accuracy: 0.96 - ETA: 0s - loss: 0.1813 - accuracy: 0.96 - ETA: 0s - loss: 0.1886 - accuracy: 0.95 - ETA: 0s - loss: 0.1884 - accuracy: 0.95 - 1s 2ms/step - loss: 0.1956 - accuracy: 0.9576 - val_loss: 0.9165 - val_accuracy: 0.8091\n",
      "Epoch 6/100\n",
      "225/225 [==============================] - ETA: 0s - loss: 0.3324 - accuracy: 0.96 - ETA: 0s - loss: 0.1115 - accuracy: 0.97 - ETA: 0s - loss: 0.1133 - accuracy: 0.97 - ETA: 0s - loss: 0.1360 - accuracy: 0.96 - ETA: 0s - loss: 0.1478 - accuracy: 0.96 - ETA: 0s - loss: 0.1600 - accuracy: 0.96 - ETA: 0s - loss: 0.1577 - accuracy: 0.96 - ETA: 0s - loss: 0.1619 - accuracy: 0.96 - ETA: 0s - loss: 0.1713 - accuracy: 0.95 - ETA: 0s - loss: 0.1793 - accuracy: 0.95 - 1s 3ms/step - loss: 0.1790 - accuracy: 0.9576 - val_loss: 0.9722 - val_accuracy: 0.8013\n",
      "Epoch 7/100\n",
      "225/225 [==============================] - ETA: 0s - loss: 0.0195 - accuracy: 1.00 - ETA: 0s - loss: 0.1196 - accuracy: 0.97 - ETA: 0s - loss: 0.1338 - accuracy: 0.96 - ETA: 0s - loss: 0.1245 - accuracy: 0.96 - ETA: 0s - loss: 0.1269 - accuracy: 0.96 - ETA: 0s - loss: 0.1385 - accuracy: 0.96 - ETA: 0s - loss: 0.1461 - accuracy: 0.96 - ETA: 0s - loss: 0.1517 - accuracy: 0.96 - ETA: 0s - loss: 0.1638 - accuracy: 0.96 - 1s 2ms/step - loss: 0.1667 - accuracy: 0.9596 - val_loss: 0.9393 - val_accuracy: 0.7969\n"
     ]
    }
   ],
   "source": [
    "early_stop = keras.callbacks.EarlyStopping(monitor='val_loss', patience=5)\n",
    "\n",
    "history = model.fit(x_train_tfidf, y_train_one_hot, epochs=100, validation_split=0.2, callbacks=[early_stop])"
   ]
  },
  {
   "cell_type": "code",
   "execution_count": 79,
   "id": "da284a8c-b2e6-49c2-9fcf-df07f15ae57c",
   "metadata": {},
   "outputs": [
    {
     "data": {
      "text/html": [
       "<div>\n",
       "<style scoped>\n",
       "    .dataframe tbody tr th:only-of-type {\n",
       "        vertical-align: middle;\n",
       "    }\n",
       "\n",
       "    .dataframe tbody tr th {\n",
       "        vertical-align: top;\n",
       "    }\n",
       "\n",
       "    .dataframe thead th {\n",
       "        text-align: right;\n",
       "    }\n",
       "</style>\n",
       "<table border=\"1\" class=\"dataframe\">\n",
       "  <thead>\n",
       "    <tr style=\"text-align: right;\">\n",
       "      <th></th>\n",
       "      <th>loss</th>\n",
       "      <th>accuracy</th>\n",
       "      <th>val_loss</th>\n",
       "      <th>val_accuracy</th>\n",
       "    </tr>\n",
       "  </thead>\n",
       "  <tbody>\n",
       "    <tr>\n",
       "      <th>0</th>\n",
       "      <td>1.193644</td>\n",
       "      <td>0.749061</td>\n",
       "      <td>0.888307</td>\n",
       "      <td>0.805231</td>\n",
       "    </tr>\n",
       "    <tr>\n",
       "      <th>1</th>\n",
       "      <td>0.420866</td>\n",
       "      <td>0.904245</td>\n",
       "      <td>0.864388</td>\n",
       "      <td>0.809683</td>\n",
       "    </tr>\n",
       "    <tr>\n",
       "      <th>2</th>\n",
       "      <td>0.273012</td>\n",
       "      <td>0.938900</td>\n",
       "      <td>0.912139</td>\n",
       "      <td>0.815248</td>\n",
       "    </tr>\n",
       "    <tr>\n",
       "      <th>3</th>\n",
       "      <td>0.211553</td>\n",
       "      <td>0.952958</td>\n",
       "      <td>0.942858</td>\n",
       "      <td>0.810796</td>\n",
       "    </tr>\n",
       "    <tr>\n",
       "      <th>4</th>\n",
       "      <td>0.195646</td>\n",
       "      <td>0.957550</td>\n",
       "      <td>0.916488</td>\n",
       "      <td>0.809126</td>\n",
       "    </tr>\n",
       "    <tr>\n",
       "      <th>5</th>\n",
       "      <td>0.179001</td>\n",
       "      <td>0.957550</td>\n",
       "      <td>0.972237</td>\n",
       "      <td>0.801336</td>\n",
       "    </tr>\n",
       "    <tr>\n",
       "      <th>6</th>\n",
       "      <td>0.166737</td>\n",
       "      <td>0.959638</td>\n",
       "      <td>0.939287</td>\n",
       "      <td>0.796884</td>\n",
       "    </tr>\n",
       "  </tbody>\n",
       "</table>\n",
       "</div>"
      ],
      "text/plain": [
       "       loss  accuracy  val_loss  val_accuracy\n",
       "0  1.193644  0.749061  0.888307      0.805231\n",
       "1  0.420866  0.904245  0.864388      0.809683\n",
       "2  0.273012  0.938900  0.912139      0.815248\n",
       "3  0.211553  0.952958  0.942858      0.810796\n",
       "4  0.195646  0.957550  0.916488      0.809126\n",
       "5  0.179001  0.957550  0.972237      0.801336\n",
       "6  0.166737  0.959638  0.939287      0.796884"
      ]
     },
     "execution_count": 79,
     "metadata": {},
     "output_type": "execute_result"
    }
   ],
   "source": [
    "import pandas as pd\n",
    "pd.DataFrame(history.history)"
   ]
  },
  {
   "cell_type": "code",
   "execution_count": 80,
   "id": "c3e6a00b-b999-4012-bfd5-cafe74d3f1f0",
   "metadata": {},
   "outputs": [
    {
     "name": "stdout",
     "output_type": "stream",
     "text": []
    },
    {
     "name": "stdout",
     "output_type": "stream",
     "text": [
      "71/71 [==============================] - ETA: 1s - loss: 0.5248 - accuracy: 0.87 - ETA: 0s - loss: 0.9763 - accuracy: 0.78 - 0s 1ms/step - loss: 1.0158 - accuracy: 0.7858\n"
     ]
    },
    {
     "data": {
      "text/plain": [
       "[1.0157599449157715, 0.7858415246009827]"
      ]
     },
     "execution_count": 80,
     "metadata": {},
     "output_type": "execute_result"
    }
   ],
   "source": [
    "model.evaluate(x_test_tfidf, y_test_one_hot)"
   ]
  },
  {
   "cell_type": "markdown",
   "id": "620170d7-9564-4663-995a-e0d66e95f2bd",
   "metadata": {},
   "source": [
    "79％の正解率となった。  \n",
    "RNNを使うと上がるのか下がるのか..."
   ]
  },
  {
   "cell_type": "markdown",
   "id": "38c9dd78-c0fe-4750-8ee0-9e298c4417e3",
   "metadata": {},
   "source": [
    "## SimpleRNN"
   ]
  },
  {
   "cell_type": "code",
   "execution_count": 121,
   "id": "3041e203-10f9-4c18-bcc9-d148bb48c439",
   "metadata": {},
   "outputs": [],
   "source": [
    "model = tf.keras.models.Sequential([\n",
    "    layers.SimpleRNN(512, activation='tanh', input_shape=(None, 1000)),\n",
    "    layers.Dense(y_train_one_hot.shape[1], activation='softmax')\n",
    "])"
   ]
  },
  {
   "cell_type": "markdown",
   "id": "72d6b333-014b-4f5a-8056-ddc858e2a7c5",
   "metadata": {},
   "source": [
    "ちなみに  \n",
    "model.add(Embedding(max_features, 1000))  \n",
    "にすることで、前処理の同等の結果が得られる。"
   ]
  },
  {
   "cell_type": "code",
   "execution_count": 122,
   "id": "0b5186a1-4416-446d-bd2f-7ed114afdd25",
   "metadata": {},
   "outputs": [
    {
     "name": "stdout",
     "output_type": "stream",
     "text": [
      "Model: \"sequential_9\"\n",
      "_________________________________________________________________\n",
      "Layer (type)                 Output Shape              Param #   \n",
      "=================================================================\n",
      "simple_rnn_5 (SimpleRNN)     (None, 512)               774656    \n",
      "_________________________________________________________________\n",
      "dense_14 (Dense)             (None, 46)                23598     \n",
      "=================================================================\n",
      "Total params: 798,254\n",
      "Trainable params: 798,254\n",
      "Non-trainable params: 0\n",
      "_________________________________________________________________\n"
     ]
    }
   ],
   "source": [
    "model.summary()"
   ]
  },
  {
   "cell_type": "code",
   "execution_count": 123,
   "id": "9a6dc274-7989-4ddb-8175-1a645f5de367",
   "metadata": {},
   "outputs": [],
   "source": [
    "model.compile(\n",
    "    optimizer='adam',\n",
    "    loss = 'categorical_crossentropy',\n",
    "    metrics='accuracy'\n",
    ")"
   ]
  },
  {
   "cell_type": "code",
   "execution_count": 124,
   "id": "eef5e290-a9ad-406c-8df4-3e32e0a48cbe",
   "metadata": {},
   "outputs": [
    {
     "name": "stdout",
     "output_type": "stream",
     "text": [
      "Epoch 1/100\n"
     ]
    },
    {
     "ename": "ValueError",
     "evalue": "in user code:\n\n    /opt/anaconda3/envs/always/lib/python3.8/site-packages/keras/engine/training.py:853 train_function  *\n        return step_function(self, iterator)\n    /opt/anaconda3/envs/always/lib/python3.8/site-packages/keras/engine/training.py:842 step_function  **\n        outputs = model.distribute_strategy.run(run_step, args=(data,))\n    /opt/anaconda3/envs/always/lib/python3.8/site-packages/tensorflow/python/distribute/distribute_lib.py:1286 run\n        return self._extended.call_for_each_replica(fn, args=args, kwargs=kwargs)\n    /opt/anaconda3/envs/always/lib/python3.8/site-packages/tensorflow/python/distribute/distribute_lib.py:2849 call_for_each_replica\n        return self._call_for_each_replica(fn, args, kwargs)\n    /opt/anaconda3/envs/always/lib/python3.8/site-packages/tensorflow/python/distribute/distribute_lib.py:3632 _call_for_each_replica\n        return fn(*args, **kwargs)\n    /opt/anaconda3/envs/always/lib/python3.8/site-packages/keras/engine/training.py:835 run_step  **\n        outputs = model.train_step(data)\n    /opt/anaconda3/envs/always/lib/python3.8/site-packages/keras/engine/training.py:787 train_step\n        y_pred = self(x, training=True)\n    /opt/anaconda3/envs/always/lib/python3.8/site-packages/keras/engine/base_layer.py:1020 __call__\n        input_spec.assert_input_compatibility(self.input_spec, inputs, self.name)\n    /opt/anaconda3/envs/always/lib/python3.8/site-packages/keras/engine/input_spec.py:214 assert_input_compatibility\n        raise ValueError('Input ' + str(input_index) + ' of layer ' +\n\n    ValueError: Input 0 of layer sequential_9 is incompatible with the layer: expected ndim=3, found ndim=2. Full shape received: (None, 1000)\n",
     "output_type": "error",
     "traceback": [
      "\u001b[0;31m---------------------------------------------------------------------------\u001b[0m\n\u001b[0;31mValueError\u001b[0m                                Traceback (most recent call last)",
      "File \u001b[0;34m/opt/anaconda3/envs/always/lib/python3.8/site-packages/IPython/core/interactiveshell.py\u001b[0m, in \u001b[0;32mrun_code\u001b[0m:\nLine \u001b[0;34m3441\u001b[0m:  exec(code_obj, \u001b[36mself\u001b[39;49;00m.user_global_ns, \u001b[36mself\u001b[39;49;00m.user_ns)\n",
      "In  \u001b[0;34m[124]\u001b[0m:\nLine \u001b[0;34m3\u001b[0m:     history = model.fit(x_train_tfidf, y_train_one_hot, epochs=\u001b[34m100\u001b[39;49;00m, validation_split=\u001b[34m0.2\u001b[39;49;00m, callbacks=[early_stop])\n",
      "File \u001b[0;34m/opt/anaconda3/envs/always/lib/python3.8/site-packages/keras/engine/training.py\u001b[0m, in \u001b[0;32mfit\u001b[0m:\nLine \u001b[0;34m1184\u001b[0m:  tmp_logs = \u001b[36mself\u001b[39;49;00m.train_function(iterator)\n",
      "File \u001b[0;34m/opt/anaconda3/envs/always/lib/python3.8/site-packages/tensorflow/python/eager/def_function.py\u001b[0m, in \u001b[0;32m__call__\u001b[0m:\nLine \u001b[0;34m885\u001b[0m:   result = \u001b[36mself\u001b[39;49;00m._call(*args, **kwds)\n",
      "File \u001b[0;34m/opt/anaconda3/envs/always/lib/python3.8/site-packages/tensorflow/python/eager/def_function.py\u001b[0m, in \u001b[0;32m_call\u001b[0m:\nLine \u001b[0;34m933\u001b[0m:   \u001b[36mself\u001b[39;49;00m._initialize(args, kwds, add_initializers_to=initializers)\n",
      "File \u001b[0;34m/opt/anaconda3/envs/always/lib/python3.8/site-packages/tensorflow/python/eager/def_function.py\u001b[0m, in \u001b[0;32m_initialize\u001b[0m:\nLine \u001b[0;34m759\u001b[0m:   \u001b[36mself\u001b[39;49;00m._stateful_fn._get_concrete_function_internal_garbage_collected(  \u001b[37m# pylint: disable=protected-access\u001b[39;49;00m\n",
      "File \u001b[0;34m/opt/anaconda3/envs/always/lib/python3.8/site-packages/tensorflow/python/eager/function.py\u001b[0m, in \u001b[0;32m_get_concrete_function_internal_garbage_collected\u001b[0m:\nLine \u001b[0;34m3066\u001b[0m:  graph_function, _ = \u001b[36mself\u001b[39;49;00m._maybe_define_function(args, kwargs)\n",
      "File \u001b[0;34m/opt/anaconda3/envs/always/lib/python3.8/site-packages/tensorflow/python/eager/function.py\u001b[0m, in \u001b[0;32m_maybe_define_function\u001b[0m:\nLine \u001b[0;34m3463\u001b[0m:  graph_function = \u001b[36mself\u001b[39;49;00m._create_graph_function(args, kwargs)\n",
      "File \u001b[0;34m/opt/anaconda3/envs/always/lib/python3.8/site-packages/tensorflow/python/eager/function.py\u001b[0m, in \u001b[0;32m_create_graph_function\u001b[0m:\nLine \u001b[0;34m3298\u001b[0m:  func_graph_module.func_graph_from_py_func(\n",
      "File \u001b[0;34m/opt/anaconda3/envs/always/lib/python3.8/site-packages/tensorflow/python/framework/func_graph.py\u001b[0m, in \u001b[0;32mfunc_graph_from_py_func\u001b[0m:\nLine \u001b[0;34m1007\u001b[0m:  func_outputs = python_func(*func_args, **func_kwargs)\n",
      "File \u001b[0;34m/opt/anaconda3/envs/always/lib/python3.8/site-packages/tensorflow/python/eager/def_function.py\u001b[0m, in \u001b[0;32mwrapped_fn\u001b[0m:\nLine \u001b[0;34m668\u001b[0m:   out = weak_wrapped_fn().__wrapped__(*args, **kwds)\n",
      "File \u001b[0;34m/opt/anaconda3/envs/always/lib/python3.8/site-packages/tensorflow/python/framework/func_graph.py\u001b[0m, in \u001b[0;32mwrapper\u001b[0m:\nLine \u001b[0;34m994\u001b[0m:   \u001b[34mraise\u001b[39;49;00m e.ag_error_metadata.to_exception(e)\n",
      "\u001b[0;31mValueError\u001b[0m: in user code:\n\n    /opt/anaconda3/envs/always/lib/python3.8/site-packages/keras/engine/training.py:853 train_function  *\n        return step_function(self, iterator)\n    /opt/anaconda3/envs/always/lib/python3.8/site-packages/keras/engine/training.py:842 step_function  **\n        outputs = model.distribute_strategy.run(run_step, args=(data,))\n    /opt/anaconda3/envs/always/lib/python3.8/site-packages/tensorflow/python/distribute/distribute_lib.py:1286 run\n        return self._extended.call_for_each_replica(fn, args=args, kwargs=kwargs)\n    /opt/anaconda3/envs/always/lib/python3.8/site-packages/tensorflow/python/distribute/distribute_lib.py:2849 call_for_each_replica\n        return self._call_for_each_replica(fn, args, kwargs)\n    /opt/anaconda3/envs/always/lib/python3.8/site-packages/tensorflow/python/distribute/distribute_lib.py:3632 _call_for_each_replica\n        return fn(*args, **kwargs)\n    /opt/anaconda3/envs/always/lib/python3.8/site-packages/keras/engine/training.py:835 run_step  **\n        outputs = model.train_step(data)\n    /opt/anaconda3/envs/always/lib/python3.8/site-packages/keras/engine/training.py:787 train_step\n        y_pred = self(x, training=True)\n    /opt/anaconda3/envs/always/lib/python3.8/site-packages/keras/engine/base_layer.py:1020 __call__\n        input_spec.assert_input_compatibility(self.input_spec, inputs, self.name)\n    /opt/anaconda3/envs/always/lib/python3.8/site-packages/keras/engine/input_spec.py:214 assert_input_compatibility\n        raise ValueError('Input ' + str(input_index) + ' of layer ' +\n\n    ValueError: Input 0 of layer sequential_9 is incompatible with the layer: expected ndim=3, found ndim=2. Full shape received: (None, 1000)\n\n\u001b[0;31m---------------------------------------------------------------------------\u001b[0m"
     ]
    }
   ],
   "source": [
    "early_stop = keras.callbacks.EarlyStopping(monitor='val_loss', patience=5)\n",
    "\n",
    "history = model.fit(x_train_tfidf, y_train_one_hot, epochs=100, validation_split=0.2, callbacks=[early_stop])"
   ]
  },
  {
   "cell_type": "markdown",
   "id": "8a9662ae-8aee-4c2c-a9d7-65db165c6eec",
   "metadata": {},
   "source": [
    "??  \n",
    "shapeを三次元にしてくださいとのこと....  \n",
    "シーケンス方向にデータを拡張する必要があるのかな...  \n",
    "今回の場合文字列なので(バッチ、 1, tfidf)の形???  \n",
    "あるいは1000個の文字数なので、　(batch, 登場する単語数, テキストの長さ)にすることで、RNNにできそう"
   ]
  },
  {
   "cell_type": "code",
   "execution_count": 133,
   "id": "e27fa1b5-befc-48ec-906b-f36590c7cf26",
   "metadata": {},
   "outputs": [],
   "source": [
    "# 500個の文字ベクトルにする。空いてるところは0をいれちゃう\n",
    "x_train_500 = sequence.pad_sequences(x_train, maxlen=500)"
   ]
  },
  {
   "cell_type": "code",
   "execution_count": 134,
   "id": "e3e702ed-73b0-48e5-95a7-187376c0d549",
   "metadata": {},
   "outputs": [
    {
     "data": {
      "text/plain": [
       "(8982, 500)"
      ]
     },
     "execution_count": 134,
     "metadata": {},
     "output_type": "execute_result"
    }
   ],
   "source": [
    "x_train_500.shape"
   ]
  },
  {
   "cell_type": "code",
   "execution_count": 140,
   "id": "b41f6ccc-704e-42d3-ae35-d903bc9094fc",
   "metadata": {},
   "outputs": [],
   "source": [
    "test = tf.keras.models.Sequential([\n",
    "    layers.Embedding(1000, 500),\n",
    "    layers.SimpleRNN(512, activation='tanh', input_shape=(1000, 500)),\n",
    "    layers.Dense(y_train_one_hot.shape[1], activation='softmax')\n",
    "])"
   ]
  },
  {
   "cell_type": "code",
   "execution_count": 141,
   "id": "e50346f2-be04-41b1-a38c-3f6779dc95ad",
   "metadata": {},
   "outputs": [],
   "source": [
    "test.compile(\n",
    "    optimizer='adam',\n",
    "    loss = 'categorical_crossentropy',\n",
    "    metrics='accuracy'\n",
    ")"
   ]
  },
  {
   "cell_type": "code",
   "execution_count": 146,
   "id": "0006fb99-13b3-4cd6-a9d6-b4dcec1b62b6",
   "metadata": {},
   "outputs": [
    {
     "name": "stdout",
     "output_type": "stream",
     "text": [
      "Epoch 1/5\n",
      "281/281 - 189s - loss: 2.3067 - accuracy: 0.4092\n",
      "Epoch 2/5\n",
      "281/281 - 185s - loss: 2.2459 - accuracy: 0.4241\n",
      "Epoch 3/5\n",
      "281/281 - 182s - loss: 2.1797 - accuracy: 0.4444\n",
      "Epoch 4/5\n",
      "281/281 - 183s - loss: 2.1528 - accuracy: 0.4574\n",
      "Epoch 5/5\n",
      "281/281 - 184s - loss: 2.1288 - accuracy: 0.4653\n"
     ]
    },
    {
     "data": {
      "text/plain": [
       "<keras.callbacks.History at 0x7f8ba3df8910>"
      ]
     },
     "execution_count": 146,
     "metadata": {},
     "output_type": "execute_result"
    }
   ],
   "source": [
    "test.fit(x_train_500, y_train_one_hot, epochs=5, verbose=2)"
   ]
  },
  {
   "cell_type": "code",
   "execution_count": 147,
   "id": "efc542d5-b0c2-47f5-89b6-01994441b29f",
   "metadata": {},
   "outputs": [
    {
     "name": "stdout",
     "output_type": "stream",
     "text": [
      "71/71 - 26s - loss: 2.6955 - accuracy: 0.3615\n"
     ]
    },
    {
     "data": {
      "text/plain": [
       "[2.6955084800720215, 0.3615316152572632]"
      ]
     },
     "execution_count": 147,
     "metadata": {},
     "output_type": "execute_result"
    }
   ],
   "source": [
    "test.evaluate(x_test_tfidf, y_test_one_hot, verbose=2)"
   ]
  },
  {
   "cell_type": "markdown",
   "id": "9861f4c3-db10-4641-9ffa-fcbef09d8dd4",
   "metadata": {},
   "source": [
    "一応学習はできたが、精度は低め...  \n",
    "パラメータな気もする...  \n",
    "他人のコード見てみる  \n",
    "\n",
    "- 単語数は全部で1000  \n",
    "- 文章の長さは500,もしかしたらここかも  \n",
    "- 学習率？"
   ]
  },
  {
   "cell_type": "code",
   "execution_count": 151,
   "id": "b2a3aea6-7617-43b9-9b8c-5fbe5cfdcbfc",
   "metadata": {},
   "outputs": [],
   "source": [
    "x_train_250 = sequence.pad_sequences(x_train, maxlen=250)"
   ]
  },
  {
   "cell_type": "code",
   "execution_count": 152,
   "id": "b9fd18bc-b281-4c69-b8f2-b5a202034ae4",
   "metadata": {},
   "outputs": [],
   "source": [
    "test = tf.keras.models.Sequential([\n",
    "    layers.Embedding(1000, 250),\n",
    "    layers.SimpleRNN(512, activation='tanh', input_shape=(1000, 250)),\n",
    "    layers.Dense(y_train_one_hot.shape[1], activation='softmax')\n",
    "])"
   ]
  },
  {
   "cell_type": "code",
   "execution_count": 153,
   "id": "6252989b-eaeb-4b9a-adef-4ba5e5c1efb1",
   "metadata": {},
   "outputs": [],
   "source": [
    "test.compile(\n",
    "    optimizer='adam',\n",
    "    loss = 'categorical_crossentropy',\n",
    "    metrics='accuracy'\n",
    ")"
   ]
  },
  {
   "cell_type": "code",
   "execution_count": 154,
   "id": "2dcc0220-c989-4ad3-87a4-2d4841ec95a2",
   "metadata": {},
   "outputs": [
    {
     "name": "stdout",
     "output_type": "stream",
     "text": [
      "Epoch 1/5\n",
      "281/281 - 77s - loss: 2.5751 - accuracy: 0.3252\n",
      "Epoch 2/5\n",
      "281/281 - 78s - loss: 2.3808 - accuracy: 0.3805\n",
      "Epoch 3/5\n",
      "281/281 - 75s - loss: 2.1904 - accuracy: 0.4305\n",
      "Epoch 4/5\n",
      "281/281 - 71s - loss: 2.0926 - accuracy: 0.4579\n",
      "Epoch 5/5\n",
      "281/281 - 75s - loss: 2.0059 - accuracy: 0.4773\n"
     ]
    },
    {
     "data": {
      "text/plain": [
       "<keras.callbacks.History at 0x7f8ba4287f70>"
      ]
     },
     "execution_count": 154,
     "metadata": {},
     "output_type": "execute_result"
    }
   ],
   "source": [
    "test.fit(x_train_250, y_train_one_hot, epochs=5, verbose=2)"
   ]
  },
  {
   "cell_type": "code",
   "execution_count": 156,
   "id": "a73ba228-1679-4777-8012-65eaf6b10ed3",
   "metadata": {},
   "outputs": [],
   "source": [
    "x_test_250 = sequence.pad_sequences(x_test, maxlen=250)"
   ]
  },
  {
   "cell_type": "code",
   "execution_count": 158,
   "id": "7fc41b1a-6044-4c83-ab62-aa052f2c61ab",
   "metadata": {},
   "outputs": [
    {
     "name": "stdout",
     "output_type": "stream",
     "text": [
      "71/71 - 5s - loss: 2.2729 - accuracy: 0.4029\n"
     ]
    },
    {
     "data": {
      "text/plain": [
       "[2.272853136062622, 0.4029385447502136]"
      ]
     },
     "execution_count": 158,
     "metadata": {},
     "output_type": "execute_result"
    }
   ],
   "source": [
    "test.evaluate(x_test_250, y_test_one_hot, verbose=2)"
   ]
  },
  {
   "cell_type": "markdown",
   "id": "be84775f-9f17-48ed-93d4-b30b15b92197",
   "metadata": {},
   "source": [
    "精度が上がった,x=0のデータが多いと重みが小さくなるよねっていう話だと思う。  \n",
    "epoch増やしてみる"
   ]
  },
  {
   "cell_type": "code",
   "execution_count": 159,
   "id": "7089d9c4-da38-4f67-b7ff-3bb8161c0c57",
   "metadata": {},
   "outputs": [],
   "source": [
    "test = tf.keras.models.Sequential([\n",
    "    layers.Embedding(1000, 250),\n",
    "    layers.SimpleRNN(512, activation='tanh', input_shape=(1000, 250)),\n",
    "    layers.Dense(y_train_one_hot.shape[1], activation='softmax')\n",
    "])"
   ]
  },
  {
   "cell_type": "code",
   "execution_count": 160,
   "id": "6a216142-f060-49ac-ae67-b0ffad90fc7a",
   "metadata": {},
   "outputs": [],
   "source": [
    "test.compile(\n",
    "    optimizer='adam',\n",
    "    loss = 'categorical_crossentropy',\n",
    "    metrics='accuracy'\n",
    ")"
   ]
  },
  {
   "cell_type": "code",
   "execution_count": 161,
   "id": "1602c199-b6d2-4c0b-b55f-6fa3a957c3e4",
   "metadata": {},
   "outputs": [
    {
     "name": "stdout",
     "output_type": "stream",
     "text": [
      "Epoch 1/10\n",
      "281/281 - 78s - loss: 2.8789 - accuracy: 0.2943\n",
      "Epoch 2/10\n",
      "281/281 - 71s - loss: 2.5170 - accuracy: 0.3434\n",
      "Epoch 3/10\n",
      "281/281 - 70s - loss: 2.7947 - accuracy: 0.3007\n",
      "Epoch 4/10\n",
      "281/281 - 71s - loss: 2.4495 - accuracy: 0.3573\n",
      "Epoch 5/10\n",
      "281/281 - 71s - loss: 2.4716 - accuracy: 0.3435\n",
      "Epoch 6/10\n",
      "281/281 - 76s - loss: 2.4439 - accuracy: 0.3545\n",
      "Epoch 7/10\n",
      "281/281 - 75s - loss: 2.4705 - accuracy: 0.3420\n",
      "Epoch 8/10\n",
      "281/281 - 73s - loss: 2.3531 - accuracy: 0.3863\n",
      "Epoch 9/10\n",
      "281/281 - 71s - loss: 2.2712 - accuracy: 0.4187\n",
      "Epoch 10/10\n",
      "281/281 - 71s - loss: 2.2143 - accuracy: 0.4328\n"
     ]
    },
    {
     "data": {
      "text/plain": [
       "<keras.callbacks.History at 0x7f8bf281a6d0>"
      ]
     },
     "execution_count": 161,
     "metadata": {},
     "output_type": "execute_result"
    }
   ],
   "source": [
    "test.fit(x_train_250, y_train_one_hot, epochs=10, verbose=2)"
   ]
  },
  {
   "cell_type": "code",
   "execution_count": 163,
   "id": "945e7d77-adf7-40ce-b49b-2657f3695f0a",
   "metadata": {},
   "outputs": [
    {
     "name": "stdout",
     "output_type": "stream",
     "text": [
      "71/71 - 5s - loss: 2.2523 - accuracy: 0.4412\n"
     ]
    },
    {
     "data": {
      "text/plain": [
       "[2.252274990081787, 0.44122883677482605]"
      ]
     },
     "execution_count": 163,
     "metadata": {},
     "output_type": "execute_result"
    }
   ],
   "source": [
    "test.evaluate(x_test_250, y_test_one_hot, verbose=2)"
   ]
  },
  {
   "cell_type": "markdown",
   "id": "02b07640-2be1-4b97-a98d-5c5845da243b",
   "metadata": {},
   "source": [
    "？？  \n",
    "epoch増やしただけなのに学習経過がだいぶ変更された。  \n",
    "入力データの順番が変わったのだと思うが、ここまで変わるのか・"
   ]
  },
  {
   "cell_type": "markdown",
   "id": "c9369424-1bf6-40dd-8011-6684b4537e85",
   "metadata": {},
   "source": [
    "## LSTM"
   ]
  },
  {
   "cell_type": "markdown",
   "id": "d9a460b4-2f3e-46c6-8941-75a7e906d75b",
   "metadata": {},
   "source": [
    "![Imgur](https://i.imgur.com/uWwm9lRh.png)"
   ]
  },
  {
   "cell_type": "markdown",
   "id": "6a0c11bc-e910-44c5-ade8-f044091b3d8e",
   "metadata": {},
   "source": [
    "直近の過去の重みhといままでの過去の重みcの二つの重みが存在している。  \n",
    "\n",
    "\n",
    "1. hとxを足して、記憶セルcにどれくらい書き込むかをシグモイド関数によって確定させる。  \n",
    "    その後記憶せるcに書き込む\n",
    "    ![Imgur](https://i.imgur.com/Jwxfqhrh.jpg)\n",
    "    \n",
    "2. 1で得られたものと、RNNのtanhで活性化させたものを掛け合わせる。\n",
    "    イメージ的にはhとxが関連してるベクトルならシグモイド関数の出力は大きくなるので、データの価値は大きくなる。 \n",
    "    ![Imgur](https://i.imgur.com/g6RwjL3h.jpg)\n",
    "    \n",
    "3. 古いパラメータを更新する。まず1で求めた現時点の情報をかけて、古い情報を消す。  \n",
    "    そこに、2で求めた新しいデータを足し合わせる。  \n",
    "    ![Imgur](https://i.imgur.com/1mnqlqzh.jpg)\n",
    "    \n",
    "4. 更新されたcにtanhを掛け合わせたものと、今回だけのデータのシグモイド関数にかけたものを掛け合わせる。\n",
    "    ![Imgur](https://i.imgur.com/IepA3aCh.jpg)"
   ]
  },
  {
   "cell_type": "code",
   "execution_count": 164,
   "id": "8e13b4ec-3fd3-4fdb-b83e-9436b5ffd6c5",
   "metadata": {},
   "outputs": [],
   "source": [
    "lstm = tf.keras.models.Sequential([\n",
    "    layers.Embedding(1000, 250),\n",
    "    layers.LSTM(128, dropout=0.2, recurrent_dropout=0.2),\n",
    "    layers.Dense(y_train_one_hot.shape[1], activation='softmax')\n",
    "])"
   ]
  },
  {
   "cell_type": "code",
   "execution_count": 167,
   "id": "bbd7e3ef-04cb-43f7-928a-e080d185c71e",
   "metadata": {},
   "outputs": [],
   "source": [
    "lstm.compile(\n",
    "    optimizer='adam',\n",
    "    loss = 'categorical_crossentropy',\n",
    "    metrics='accuracy'\n",
    ")"
   ]
  },
  {
   "cell_type": "code",
   "execution_count": 168,
   "id": "c82dc721-563d-42c8-921b-318852d632a0",
   "metadata": {},
   "outputs": [
    {
     "name": "stdout",
     "output_type": "stream",
     "text": [
      "Epoch 1/10\n",
      "281/281 - 98s - loss: 2.1789 - accuracy: 0.4614\n",
      "Epoch 2/10\n",
      "281/281 - 99s - loss: 1.8635 - accuracy: 0.5278\n",
      "Epoch 3/10\n",
      "281/281 - 96s - loss: 1.6386 - accuracy: 0.5825\n",
      "Epoch 4/10\n",
      "281/281 - 92s - loss: 1.4439 - accuracy: 0.6420\n",
      "Epoch 5/10\n",
      "281/281 - 104s - loss: 1.3318 - accuracy: 0.6668\n",
      "Epoch 6/10\n",
      "281/281 - 103s - loss: 1.2037 - accuracy: 0.7057\n",
      "Epoch 7/10\n",
      "281/281 - 104s - loss: 1.1091 - accuracy: 0.7281\n",
      "Epoch 8/10\n",
      "281/281 - 98s - loss: 0.9866 - accuracy: 0.7604\n",
      "Epoch 9/10\n",
      "281/281 - 96s - loss: 0.8875 - accuracy: 0.7825\n",
      "Epoch 10/10\n",
      "281/281 - 94s - loss: 0.8153 - accuracy: 0.8010\n"
     ]
    },
    {
     "data": {
      "text/plain": [
       "<keras.callbacks.History at 0x7f8bf29a4400>"
      ]
     },
     "execution_count": 168,
     "metadata": {},
     "output_type": "execute_result"
    }
   ],
   "source": [
    "lstm.fit(x_train_250, y_train_one_hot, epochs=10, verbose=2)"
   ]
  },
  {
   "cell_type": "code",
   "execution_count": 171,
   "id": "8f7d6ca2-533e-428f-9c16-ccd6247ffd90",
   "metadata": {},
   "outputs": [
    {
     "name": "stdout",
     "output_type": "stream",
     "text": [
      "71/71 - 3s - loss: 1.0306 - accuracy: 0.7489\n"
     ]
    },
    {
     "data": {
      "text/plain": [
       "[1.0306174755096436, 0.7488868832588196]"
      ]
     },
     "execution_count": 171,
     "metadata": {},
     "output_type": "execute_result"
    }
   ],
   "source": [
    "lstm.evaluate(x_test_250, y_test_one_hot, verbose=2)"
   ]
  },
  {
   "cell_type": "markdown",
   "id": "3008ca41-bd85-4edb-899d-c41368acd1af",
   "metadata": {},
   "source": [
    "精度高い、まだ学ばせれば精度上がりそう。　  \n",
    "計算コストは30%くらい増えてる。"
   ]
  },
  {
   "cell_type": "markdown",
   "id": "d7b7b614-9d97-439e-b5bf-ccaa809f9a28",
   "metadata": {},
   "source": [
    "## GRU\n",
    "\n",
    "計算コストがLSTMより小さい、性能はそこまで変わらない。\n",
    "![Imgur](https://i.imgur.com/X2yC7dzh.png)"
   ]
  },
  {
   "cell_type": "code",
   "execution_count": 172,
   "id": "d9b58c8e-5852-4eff-91c9-49790d4106d9",
   "metadata": {},
   "outputs": [],
   "source": [
    "gru = tf.keras.models.Sequential([\n",
    "    layers.Embedding(1000, 250),\n",
    "    layers.GRU(128, dropout=0.2, recurrent_dropout=0.2),\n",
    "    layers.Dense(y_train_one_hot.shape[1], activation='softmax')\n",
    "])"
   ]
  },
  {
   "cell_type": "code",
   "execution_count": 173,
   "id": "eca46f84-c3cb-481b-af5c-e61c055e4da6",
   "metadata": {},
   "outputs": [],
   "source": [
    "gru.compile(\n",
    "    optimizer='adam',\n",
    "    loss = 'categorical_crossentropy',\n",
    "    metrics='accuracy'\n",
    ")"
   ]
  },
  {
   "cell_type": "code",
   "execution_count": 174,
   "id": "4914bd52-25e2-48a6-92ee-61dd3fd287b6",
   "metadata": {},
   "outputs": [
    {
     "name": "stdout",
     "output_type": "stream",
     "text": [
      "Epoch 1/10\n",
      "281/281 - 87s - loss: 2.0948 - accuracy: 0.4566\n",
      "Epoch 2/10\n",
      "281/281 - 85s - loss: 1.6594 - accuracy: 0.5772\n",
      "Epoch 3/10\n",
      "281/281 - 85s - loss: 1.5012 - accuracy: 0.6306\n",
      "Epoch 4/10\n",
      "281/281 - 87s - loss: 1.2827 - accuracy: 0.6847\n",
      "Epoch 5/10\n",
      "281/281 - 97s - loss: 1.1890 - accuracy: 0.7050\n",
      "Epoch 6/10\n",
      "281/281 - 97s - loss: 1.0668 - accuracy: 0.7346\n",
      "Epoch 7/10\n",
      "281/281 - 86s - loss: 0.9357 - accuracy: 0.7690\n",
      "Epoch 8/10\n",
      "281/281 - 89s - loss: 0.8833 - accuracy: 0.7837\n",
      "Epoch 9/10\n",
      "281/281 - 88s - loss: 0.7999 - accuracy: 0.8010\n",
      "Epoch 10/10\n",
      "281/281 - 92s - loss: 0.7457 - accuracy: 0.8130\n"
     ]
    },
    {
     "data": {
      "text/plain": [
       "<keras.callbacks.History at 0x7f8bab3b86a0>"
      ]
     },
     "execution_count": 174,
     "metadata": {},
     "output_type": "execute_result"
    }
   ],
   "source": [
    "gru.fit(x_train_250, y_train_one_hot, epochs=10, verbose=2)"
   ]
  },
  {
   "cell_type": "code",
   "execution_count": 175,
   "id": "69f12cef-3315-485c-bab8-a307b55b7fc0",
   "metadata": {},
   "outputs": [
    {
     "name": "stdout",
     "output_type": "stream",
     "text": [
      "71/71 - 3s - loss: 1.0156 - accuracy: 0.7560\n"
     ]
    },
    {
     "data": {
      "text/plain": [
       "[1.01558518409729, 0.7560107111930847]"
      ]
     },
     "execution_count": 175,
     "metadata": {},
     "output_type": "execute_result"
    }
   ],
   "source": [
    "gru.evaluate(x_test_250, y_test_one_hot, verbose=2)"
   ]
  },
  {
   "cell_type": "markdown",
   "id": "1d18e5d8-01ec-4197-8d7f-4b801b385ad9",
   "metadata": {},
   "source": [
    "性能はLSTMとそこまで大きくかわらない  \n",
    "実行時間は-10%くらい"
   ]
  },
  {
   "cell_type": "markdown",
   "id": "2a980902-65ee-476f-99fd-1c15ece9c05f",
   "metadata": {},
   "source": [
    "## ConvLSTM2D"
   ]
  },
  {
   "cell_type": "markdown",
   "id": "eb7c206c-45d4-436a-87ef-84b57af70d8c",
   "metadata": {},
   "source": [
    "LSTMの行列計算で行っていたのを2Dに拡張し、アダマール積でLSTMを行うもの。  \n",
    "画像に時系列の重みを持たせられるので、天気予報とかに使えそう。  \n",
    "ただ、計算コストは高そう。"
   ]
  },
  {
   "cell_type": "markdown",
   "id": "531e1ff0-8fcd-486c-a218-f54275d2e796",
   "metadata": {},
   "source": [
    "# 【問題3】他のクラスの説明\n",
    "ドキュメントには他にも関連するクラスが記載されています。それらがどういうものなのかを説明してください。この中には実際に扱うことは少ないクラスも含まれています。"
   ]
  },
  {
   "cell_type": "markdown",
   "id": "90879836-27f7-4e61-98a0-69c135f0b83d",
   "metadata": {},
   "source": [
    "- RNN\n",
    "    セル単位でRNNを行うための関数  \n",
    "    \n",
    "- SimpleRNNCell\n",
    "- GRUCell\n",
    "- LSTMCell\n",
    "    RNNをセル単位で行うための関数。行うことはcellじゃないのと同じ。\n",
    "- StackedRNNCells  \n",
    "    複数のRNNセルを単一のセルの様に見せる関数\n",
    "    \n",
    "- CuDNNGRU\n",
    "- CuDNNLSTM\n",
    "    GPU環境でGPU,LSTMを行うためのライブラリ"
   ]
  },
  {
   "cell_type": "markdown",
   "id": "2fe8769e-1d2a-488c-a925-44c337a518fb",
   "metadata": {},
   "source": [
    "# 考察\n",
    "\n",
    "RNNの手法の流れは理解できた。  \n",
    "基本的にはLSTM, GRUを両方ためして精度が変わらないならGRUメインでチューニングを行うのがいいと考えられる。"
   ]
  },
  {
   "cell_type": "markdown",
   "id": "7754251d-4ad7-4057-a465-31eebd70b833",
   "metadata": {},
   "source": [
    "# 疑問\n",
    "問題3で述べたセル単位でRNN手法を変えるやり方がどれくらい効果的なのかイメージがつきづらかった。  \n",
    "おそらくだが、SimpleRnn→LSTMといった様に同シーケンスで2回重みを学習させることができると考えられる。  \n",
    "計算コストは増えるが、同じシーケンスで学習ができるので出力はより慎重な値になるのではないかと考えれる。"
   ]
  },
  {
   "cell_type": "code",
   "execution_count": null,
   "id": "99dd5805-118d-43d4-8e1b-aad6702a03ac",
   "metadata": {},
   "outputs": [],
   "source": []
  }
 ],
 "metadata": {
  "kernelspec": {
   "display_name": "Python 3.8 (XPython)",
   "language": "python",
   "name": "xpython"
  },
  "language_info": {
   "file_extension": ".py",
   "mimetype": "text/x-python",
   "name": "python",
   "version": "3.8.10"
  }
 },
 "nbformat": 4,
 "nbformat_minor": 5
}
